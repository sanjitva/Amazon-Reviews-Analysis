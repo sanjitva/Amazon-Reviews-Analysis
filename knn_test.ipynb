{
 "cells": [
  {
   "cell_type": "code",
   "execution_count": 3,
   "metadata": {},
   "outputs": [],
   "source": [
    "import numpy as np\n",
    "import pandas as pd\n",
    "from imblearn.over_sampling import SMOTE\n",
    "from sklearn.model_selection import train_test_split\n",
    "from sklearn.preprocessing import StandardScaler\n",
    "from sklearn.neighbors import KNeighborsClassifier\n",
    "import pickle\n",
    "\n",
    "#Load the Dataset\n",
    "df = pd.read_csv('WA_Fn-UseC_-Telco-Customer-Churn.csv')\n",
    "\n",
    "# Replacing missing values with monthly charge values\n",
    "df.loc[df['TotalCharges']==' ','TotalCharges'] = df.loc[df['TotalCharges']==' ','MonthlyCharges']\n",
    "\n",
    "#Converting the TotalCharges column to float64 dtype\n",
    "df['TotalCharges'] = df['TotalCharges'].astype('float64')\n",
    "\n",
    "#Dropping customerID column\n",
    "df = df.drop('customerID', axis = 1)\n",
    "\n",
    "#Feature Engineering\n",
    "df['gender'] = df['gender'].apply(lambda x: 0 if x=='Female' else 1)\n",
    "df['MultipleLines'] = df['MultipleLines'].apply(lambda x: 'No' if x == 'No phone service' else x)\n",
    "df['InternetService'] = df['InternetService'].apply(lambda x: 0 if x == 'No' else 1).astype('int64')\n",
    "\n",
    "no_net_cols = ['OnlineSecurity', 'OnlineBackup', 'DeviceProtection',\n",
    "              'TechSupport', 'StreamingTV', 'StreamingMovies']\n",
    "for col in no_net_cols:\n",
    "    df[col] = df[col].apply(lambda x: 'No' if x == 'No internet service' else x)\n",
    "\n",
    "df['loyalty'] =  df['Contract'].apply(lambda x: 0 if x == 'Month-to-month' else 1).astype('int64')\n",
    "df = df.drop('Contract',axis = 1)\n",
    "\n",
    "##Convert Yes/No columns to 1 or 0\n",
    "y_n_cols = list(df.select_dtypes(include = 'object').columns)\n",
    "y_n_cols.remove('PaymentMethod')\n",
    "\n",
    "for col in y_n_cols:\n",
    "    \n",
    "    df[col] = df[col].apply(lambda x: 0 if x == 'No' else 1).astype('int64')\n",
    "\n",
    "#Drop TotalCharges column because of high multicolinearity with tenure and MonthlyCharges column\n",
    "df = df.drop('TotalCharges', axis=1)\n",
    "\n",
    "# Factorizing the 'Payment Method' column to make the category group names into numerical format\n",
    "df['PaymentMethod'], _ = df['PaymentMethod'].factorize()\n",
    "\n",
    "\n",
    "#Modeling\n",
    "\n",
    "#Splitting the Data into X and y\n",
    "X = df.drop('Churn', axis = 1)\n",
    "y = df['Churn']\n",
    "\n",
    "# Using Smote to fix Class Imbalance Issue\n",
    "smote = SMOTE()\n",
    "\n",
    "X_smote, y_smote = smote.fit_resample(X, y)\n",
    "\n",
    "#Splitting the Data into Train/Test\n",
    "X_train, X_test, y_train, y_test = train_test_split(X_smote, y_smote, random_state = 42)\n",
    "\n",
    "#Scaling the Data\n",
    "ss = StandardScaler()\n",
    "\n",
    "X_train_scaled = ss.fit_transform(X_train)\n",
    "X_test_scaled = ss.transform(X_test)\n",
    "\n",
    "#Fitting the KNN model with defined Hyper-Parameters\n",
    "knn_tuned = KNeighborsClassifier(leaf_size= 10,\n",
    "                                 metric = 'manhattan',\n",
    "                                 n_neighbors = 97,\n",
    "                                 weights = 'distance')\n",
    "\n",
    "knn_tuned.fit(X_train_scaled, y_train)\n",
    "\n",
    "#Pickle the model\n",
    "pickle.dump(knn_tuned, open('knn_model.pkl','wb'))"
   ]
  },
  {
   "cell_type": "code",
   "execution_count": 35,
   "metadata": {},
   "outputs": [],
   "source": [
    "model = pickle.load(open('knn_model.pkl','rb'))"
   ]
  },
  {
   "cell_type": "code",
   "execution_count": 65,
   "metadata": {},
   "outputs": [
    {
     "name": "stdout",
     "output_type": "stream",
     "text": [
      "[1]\n"
     ]
    }
   ],
   "source": [
    "print(model.predict([[0,0,1,0,28,1,1,1,0,0,1,1,1,1,1,0,104.8,0]]))"
   ]
  },
  {
   "cell_type": "code",
   "execution_count": 64,
   "metadata": {},
   "outputs": [
    {
     "data": {
      "text/plain": [
       "gender                0.0\n",
       "SeniorCitizen         0.0\n",
       "Partner               1.0\n",
       "Dependents            0.0\n",
       "tenure               28.0\n",
       "PhoneService          1.0\n",
       "MultipleLines         1.0\n",
       "InternetService       1.0\n",
       "OnlineSecurity        0.0\n",
       "OnlineBackup          0.0\n",
       "DeviceProtection      1.0\n",
       "TechSupport           1.0\n",
       "StreamingTV           1.0\n",
       "StreamingMovies       1.0\n",
       "PaperlessBilling      1.0\n",
       "PaymentMethod         0.0\n",
       "MonthlyCharges      104.8\n",
       "Churn                 1.0\n",
       "loyalty               0.0\n",
       "Name: 8, dtype: float64"
      ]
     },
     "execution_count": 64,
     "metadata": {},
     "output_type": "execute_result"
    }
   ],
   "source": [
    "df.iloc[8]"
   ]
  }
 ],
 "metadata": {
  "kernelspec": {
   "display_name": "Python (learn-env)",
   "language": "python",
   "name": "learn-env"
  },
  "language_info": {
   "codemirror_mode": {
    "name": "ipython",
    "version": 3
   },
   "file_extension": ".py",
   "mimetype": "text/x-python",
   "name": "python",
   "nbconvert_exporter": "python",
   "pygments_lexer": "ipython3",
   "version": "3.8.5"
  }
 },
 "nbformat": 4,
 "nbformat_minor": 4
}
